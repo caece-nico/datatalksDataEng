{
 "cells": [
  {
   "cell_type": "code",
   "execution_count": 1,
   "metadata": {},
   "outputs": [],
   "source": [
    "\n",
    "import pyspark\n",
    "from pyspark.sql import SparkSession\n",
    "from pyspark.conf import SparkConf\n",
    "from pyspark.context import SparkContext"
   ]
  },
  {
   "cell_type": "code",
   "execution_count": 1,
   "metadata": {},
   "outputs": [
    {
     "ename": "NameError",
     "evalue": "name 'spark' is not defined",
     "output_type": "error",
     "traceback": [
      "\u001b[0;31m---------------------------------------------------------------------------\u001b[0m",
      "\u001b[0;31mNameError\u001b[0m                                 Traceback (most recent call last)",
      "Cell \u001b[0;32mIn[1], line 1\u001b[0m\n\u001b[0;32m----> 1\u001b[0m \u001b[43mspark\u001b[49m\u001b[38;5;241m.\u001b[39mstop()\n",
      "\u001b[0;31mNameError\u001b[0m: name 'spark' is not defined"
     ]
    }
   ],
   "source": [
    "spark.stop()"
   ]
  },
  {
   "cell_type": "code",
   "execution_count": 2,
   "metadata": {},
   "outputs": [],
   "source": [
    "credentials_location = '/home/nicoudin/.gc/projectonleali-649724cf41f9.json'\n",
    "\n",
    "conf = SparkConf() \\\n",
    "    .setMaster('local[*]') \\\n",
    "    .setAppName('otross') \\\n",
    "    .set(\"spark.jars\", \"/home/nicoudin/spark/spark-3.3.2-bin-hadoop3/jars/gcs-connecto-hadoop3-2.2.5.jar\") \\\n",
    "    .set(\"spark.hadoop.google.cloud.auth.service.account.enable\", \"true\") \\\n",
    "    .set(\"spark.hadoop.google.cloud.auth.service.account.json.keyfile\", credentials_location)"
   ]
  },
  {
   "cell_type": "code",
   "execution_count": 3,
   "metadata": {},
   "outputs": [
    {
     "name": "stderr",
     "output_type": "stream",
     "text": [
      "your 131072x1 screen size is bogus. expect trouble\n"
     ]
    },
    {
     "name": "stdout",
     "output_type": "stream",
     "text": [
      "24/02/21 12:27:04 WARN Utils: Your hostname, DESKTOP-SLEQT56 resolves to a loopback address: 127.0.1.1; using 172.25.13.138 instead (on interface eth0)\n",
      "24/02/21 12:27:04 WARN Utils: Set SPARK_LOCAL_IP if you need to bind to another address\n",
      "24/02/21 12:27:05 WARN NativeCodeLoader: Unable to load native-hadoop library for your platform... using builtin-java classes where applicable\n",
      "24/02/21 12:27:06 WARN DependencyUtils: Local jar /home/nicoudin/spark/spark-3.3.2-bin-hadoop3/jars/gcs-connecto-hadoop3-2.2.5.jar does not exist, skipping.\n",
      "24/02/21 12:27:06 INFO SparkContext: Running Spark version 3.3.2\n",
      "24/02/21 12:27:06 INFO ResourceUtils: ==============================================================\n",
      "24/02/21 12:27:06 INFO ResourceUtils: No custom resources configured for spark.driver.\n",
      "24/02/21 12:27:06 INFO ResourceUtils: ==============================================================\n",
      "24/02/21 12:27:06 INFO SparkContext: Submitted application: otross\n",
      "24/02/21 12:27:06 INFO ResourceProfile: Default ResourceProfile created, executor resources: Map(cores -> name: cores, amount: 1, script: , vendor: , memory -> name: memory, amount: 1024, script: , vendor: , offHeap -> name: offHeap, amount: 0, script: , vendor: ), task resources: Map(cpus -> name: cpus, amount: 1.0)\n",
      "24/02/21 12:27:06 INFO ResourceProfile: Limiting resource is cpu\n",
      "24/02/21 12:27:06 INFO ResourceProfileManager: Added ResourceProfile id: 0\n",
      "24/02/21 12:27:06 INFO SecurityManager: Changing view acls to: nicoudin\n",
      "24/02/21 12:27:06 INFO SecurityManager: Changing modify acls to: nicoudin\n",
      "24/02/21 12:27:06 INFO SecurityManager: Changing view acls groups to: \n",
      "24/02/21 12:27:06 INFO SecurityManager: Changing modify acls groups to: \n",
      "24/02/21 12:27:06 INFO SecurityManager: SecurityManager: authentication disabled; ui acls disabled; users  with view permissions: Set(nicoudin); groups with view permissions: Set(); users  with modify permissions: Set(nicoudin); groups with modify permissions: Set()\n",
      "24/02/21 12:27:07 INFO Utils: Successfully started service 'sparkDriver' on port 38005.\n",
      "24/02/21 12:27:07 INFO SparkEnv: Registering MapOutputTracker\n",
      "24/02/21 12:27:07 INFO SparkEnv: Registering BlockManagerMaster\n",
      "24/02/21 12:27:07 INFO BlockManagerMasterEndpoint: Using org.apache.spark.storage.DefaultTopologyMapper for getting topology information\n",
      "24/02/21 12:27:07 INFO BlockManagerMasterEndpoint: BlockManagerMasterEndpoint up\n",
      "24/02/21 12:27:07 INFO SparkEnv: Registering BlockManagerMasterHeartbeat\n",
      "24/02/21 12:27:07 INFO DiskBlockManager: Created local directory at /tmp/blockmgr-bf506ab1-c571-4ea6-adc9-b16cb786efb0\n",
      "24/02/21 12:27:07 INFO MemoryStore: MemoryStore started with capacity 434.4 MiB\n",
      "24/02/21 12:27:07 INFO SparkEnv: Registering OutputCommitCoordinator\n",
      "24/02/21 12:27:07 INFO Utils: Successfully started service 'SparkUI' on port 4040.\n",
      "24/02/21 12:27:08 ERROR SparkContext: Failed to add /home/nicoudin/spark/spark-3.3.2-bin-hadoop3/jars/gcs-connecto-hadoop3-2.2.5.jar to Spark environment\n",
      "java.io.FileNotFoundException: Jar /home/nicoudin/spark/spark-3.3.2-bin-hadoop3/jars/gcs-connecto-hadoop3-2.2.5.jar not found\n",
      "\tat org.apache.spark.SparkContext.addLocalJarFile$1(SparkContext.scala:1959)\n",
      "\tat org.apache.spark.SparkContext.addJar(SparkContext.scala:2014)\n",
      "\tat org.apache.spark.SparkContext.$anonfun$new$12(SparkContext.scala:507)\n",
      "\tat org.apache.spark.SparkContext.$anonfun$new$12$adapted(SparkContext.scala:507)\n",
      "\tat scala.collection.mutable.ResizableArray.foreach(ResizableArray.scala:62)\n",
      "\tat scala.collection.mutable.ResizableArray.foreach$(ResizableArray.scala:55)\n",
      "\tat scala.collection.mutable.ArrayBuffer.foreach(ArrayBuffer.scala:49)\n",
      "\tat org.apache.spark.SparkContext.<init>(SparkContext.scala:507)\n",
      "\tat org.apache.spark.api.java.JavaSparkContext.<init>(JavaSparkContext.scala:58)\n",
      "\tat java.base/jdk.internal.reflect.NativeConstructorAccessorImpl.newInstance0(Native Method)\n",
      "\tat java.base/jdk.internal.reflect.NativeConstructorAccessorImpl.newInstance(NativeConstructorAccessorImpl.java:62)\n",
      "\tat java.base/jdk.internal.reflect.DelegatingConstructorAccessorImpl.newInstance(DelegatingConstructorAccessorImpl.java:45)\n",
      "\tat java.base/java.lang.reflect.Constructor.newInstance(Constructor.java:490)\n",
      "\tat py4j.reflection.MethodInvoker.invoke(MethodInvoker.java:247)\n",
      "\tat py4j.reflection.ReflectionEngine.invoke(ReflectionEngine.java:357)\n",
      "\tat py4j.Gateway.invoke(Gateway.java:238)\n",
      "\tat py4j.commands.ConstructorCommand.invokeConstructor(ConstructorCommand.java:80)\n",
      "\tat py4j.commands.ConstructorCommand.execute(ConstructorCommand.java:69)\n",
      "\tat py4j.ClientServerConnection.waitForCommands(ClientServerConnection.java:182)\n",
      "\tat py4j.ClientServerConnection.run(ClientServerConnection.java:106)\n",
      "\tat java.base/java.lang.Thread.run(Thread.java:834)\n",
      "24/02/21 12:27:08 INFO Executor: Starting executor ID driver on host 172.25.13.138\n",
      "24/02/21 12:27:08 INFO Executor: Starting executor with user classpath (userClassPathFirst = false): ''\n",
      "24/02/21 12:27:08 INFO Utils: Successfully started service 'org.apache.spark.network.netty.NettyBlockTransferService' on port 39685.\n",
      "24/02/21 12:27:08 INFO NettyBlockTransferService: Server created on 172.25.13.138:39685\n",
      "24/02/21 12:27:08 INFO BlockManager: Using org.apache.spark.storage.RandomBlockReplicationPolicy for block replication policy\n",
      "24/02/21 12:27:08 INFO BlockManagerMaster: Registering BlockManager BlockManagerId(driver, 172.25.13.138, 39685, None)\n",
      "24/02/21 12:27:08 INFO BlockManagerMasterEndpoint: Registering block manager 172.25.13.138:39685 with 434.4 MiB RAM, BlockManagerId(driver, 172.25.13.138, 39685, None)\n",
      "24/02/21 12:27:08 INFO BlockManagerMaster: Registered BlockManager BlockManagerId(driver, 172.25.13.138, 39685, None)\n",
      "24/02/21 12:27:08 INFO BlockManager: Initialized BlockManager: BlockManagerId(driver, 172.25.13.138, 39685, None)\n"
     ]
    }
   ],
   "source": [
    "sc = SparkContext.getOrCreate(conf=conf)\n",
    "\n",
    "hadoop_conf = sc._jsc.hadoopConfiguration()\n",
    "\n",
    "hadoop_conf.set(\"fs.AbstractFileSystem.gs.impl\",  \"com.google.cloud.hadoop.fs.gcs.GoogleHadoopFS\")\n",
    "hadoop_conf.set(\"fs.gs.impl\", \"com.google.cloud.hadoop.fs.gcs.GoogleHadoopFileSystem\")\n",
    "hadoop_conf.set(\"fs.gs.auth.service.account.json.keyfile\", credentials_location)\n",
    "hadoop_conf.set(\"fs.gs.auth.service.account.enable\", \"true\")"
   ]
  },
  {
   "cell_type": "code",
   "execution_count": 6,
   "metadata": {},
   "outputs": [],
   "source": [
    "spark = SparkSession.builder\\\n",
    "    .config(conf=sc.getConf()) \\\n",
    "        .getOrCreate()"
   ]
  },
  {
   "cell_type": "code",
   "execution_count": 41,
   "metadata": {},
   "outputs": [
    {
     "name": "stdout",
     "output_type": "stream",
     "text": [
      "24/02/21 01:25:56 INFO SparkUI: Stopped Spark web UI at http://172.25.13.138:4040\n",
      "24/02/21 01:25:56 INFO MapOutputTrackerMasterEndpoint: MapOutputTrackerMasterEndpoint stopped!\n",
      "24/02/21 01:25:56 INFO MemoryStore: MemoryStore cleared\n",
      "24/02/21 01:25:56 INFO BlockManager: BlockManager stopped\n",
      "24/02/21 01:25:56 INFO BlockManagerMaster: BlockManagerMaster stopped\n",
      "24/02/21 01:25:56 INFO OutputCommitCoordinator$OutputCommitCoordinatorEndpoint: OutputCommitCoordinator stopped!\n",
      "24/02/21 01:25:56 INFO SparkContext: Successfully stopped SparkContext\n"
     ]
    }
   ],
   "source": [
    "spark.stop()"
   ]
  },
  {
   "cell_type": "markdown",
   "metadata": {},
   "source": [
    "```\n",
    "Leemos el archivo de prueba que cargamos en el CLOUD\n",
    "```"
   ]
  },
  {
   "cell_type": "code",
   "execution_count": 5,
   "metadata": {},
   "outputs": [
    {
     "name": "stdout",
     "output_type": "stream",
     "text": [
      "24/02/21 12:28:03 INFO SharedState: Setting hive.metastore.warehouse.dir ('null') to the value of spark.sql.warehouse.dir.\n",
      "24/02/21 12:28:03 INFO SharedState: Warehouse path is 'file:/mnt/d/Proyectos/datatalksDataEng/Week-5/pyspark-local/Conexion_con_google_cloud/code/spark-warehouse'.\n",
      "24/02/21 12:28:07 INFO InMemoryFileIndex: It took 289 ms to list leaf files for 1 paths.\n",
      "24/02/21 12:28:07 INFO SparkContext: Starting job: parquet at NativeMethodAccessorImpl.java:0\n",
      "24/02/21 12:28:07 INFO DAGScheduler: Got job 0 (parquet at NativeMethodAccessorImpl.java:0) with 1 output partitions\n",
      "24/02/21 12:28:07 INFO DAGScheduler: Final stage: ResultStage 0 (parquet at NativeMethodAccessorImpl.java:0)\n",
      "24/02/21 12:28:07 INFO DAGScheduler: Parents of final stage: List()\n",
      "24/02/21 12:28:07 INFO DAGScheduler: Missing parents: List()\n",
      "24/02/21 12:28:07 INFO DAGScheduler: Submitting ResultStage 0 (MapPartitionsRDD[1] at parquet at NativeMethodAccessorImpl.java:0), which has no missing parents\n",
      "24/02/21 12:28:07 INFO MemoryStore: Block broadcast_0 stored as values in memory (estimated size 103.9 KiB, free 434.3 MiB)\n",
      "24/02/21 12:28:07 INFO MemoryStore: Block broadcast_0_piece0 stored as bytes in memory (estimated size 37.5 KiB, free 434.3 MiB)\n",
      "24/02/21 12:28:07 INFO BlockManagerInfo: Added broadcast_0_piece0 in memory on 172.25.13.138:39685 (size: 37.5 KiB, free: 434.4 MiB)\n",
      "24/02/21 12:28:07 INFO SparkContext: Created broadcast 0 from broadcast at DAGScheduler.scala:1513\n",
      "24/02/21 12:28:07 INFO DAGScheduler: Submitting 1 missing tasks from ResultStage 0 (MapPartitionsRDD[1] at parquet at NativeMethodAccessorImpl.java:0) (first 15 tasks are for partitions Vector(0))\n",
      "24/02/21 12:28:07 INFO TaskSchedulerImpl: Adding task set 0.0 with 1 tasks resource profile 0\n",
      "24/02/21 12:28:07 INFO TaskSetManager: Starting task 0.0 in stage 0.0 (TID 0) (172.25.13.138, executor driver, partition 0, PROCESS_LOCAL, 4625 bytes) taskResourceAssignments Map()\n",
      "24/02/21 12:28:07 INFO Executor: Running task 0.0 in stage 0.0 (TID 0)\n"
     ]
    },
    {
     "name": "stderr",
     "output_type": "stream",
     "text": [
      "[Stage 0:>                                                          (0 + 1) / 1]\r"
     ]
    },
    {
     "name": "stdout",
     "output_type": "stream",
     "text": [
      "24/02/21 12:28:10 INFO Executor: Finished task 0.0 in stage 0.0 (TID 0). 2541 bytes result sent to driver\n",
      "24/02/21 12:28:10 INFO TaskSetManager: Finished task 0.0 in stage 0.0 (TID 0) in 2211 ms on 172.25.13.138 (executor driver) (1/1)\n",
      "24/02/21 12:28:10 INFO TaskSchedulerImpl: Removed TaskSet 0.0, whose tasks have all completed, from pool \n",
      "24/02/21 12:28:10 INFO DAGScheduler: ResultStage 0 (parquet at NativeMethodAccessorImpl.java:0) finished in 2.446 s\n",
      "24/02/21 12:28:10 INFO DAGScheduler: Job 0 is finished. Cancelling potential speculative or zombie tasks for this job\n",
      "24/02/21 12:28:10 INFO TaskSchedulerImpl: Killing all running tasks in stage 0: Stage finished\n",
      "24/02/21 12:28:10 INFO DAGScheduler: Job 0 finished: parquet at NativeMethodAccessorImpl.java:0, took 2.513109 s\n"
     ]
    },
    {
     "name": "stderr",
     "output_type": "stream",
     "text": [
      "                                                                                \r"
     ]
    },
    {
     "name": "stdout",
     "output_type": "stream",
     "text": [
      "24/02/21 12:28:10 INFO BlockManagerInfo: Removed broadcast_0_piece0 on 172.25.13.138:39685 in memory (size: 37.5 KiB, free: 434.4 MiB)\n"
     ]
    }
   ],
   "source": [
    "df_green = spark.read.parquet(\"gs://projectonleali-mibucketdataproc/data/green/2020/01/green_2020_01.parquet\")\n",
    "#df_yellow = spark.read.parquet('../data/raw/yellow/*/*/')"
   ]
  },
  {
   "cell_type": "code",
   "execution_count": 7,
   "metadata": {},
   "outputs": [
    {
     "name": "stdout",
     "output_type": "stream",
     "text": [
      "{'green': ['VendorID', 'lpep_pickup_datetime', 'lpep_dropoff_datetime', 'store_and_fwd_flag', 'RatecodeID', 'PULocationID', 'DOLocationID', 'passenger_count', 'trip_distance', 'fare_amount', 'extra', 'mta_tax', 'tip_amount', 'tolls_amount', 'ehail_fee', 'improvement_surcharge', 'total_amount', 'payment_type', 'trip_type', 'congestion_surcharge']}\n"
     ]
    }
   ],
   "source": [
    "mis_columns = {'green': df_green.columns}\n",
    "print(mis_columns)"
   ]
  },
  {
   "cell_type": "code",
   "execution_count": 23,
   "metadata": {},
   "outputs": [
    {
     "name": "stdout",
     "output_type": "stream",
     "text": [
      "24/02/21 13:14:53 INFO FileSourceStrategy: Pushed Filters: \n",
      "24/02/21 13:14:53 INFO FileSourceStrategy: Post-Scan Filters: \n",
      "24/02/21 13:14:53 INFO FileSourceStrategy: Output Data Schema: struct<VendorID: bigint, lpep_pickup_datetime: timestamp, lpep_dropoff_datetime: timestamp, store_and_fwd_flag: string, RatecodeID: double ... 18 more fields>\n",
      "24/02/21 13:14:53 INFO CodeGenerator: Code generated in 22.345516 ms\n",
      "24/02/21 13:14:53 INFO MemoryStore: Block broadcast_17 stored as values in memory (estimated size 205.3 KiB, free 433.9 MiB)\n",
      "24/02/21 13:14:53 INFO MemoryStore: Block broadcast_17_piece0 stored as bytes in memory (estimated size 36.0 KiB, free 433.9 MiB)\n",
      "24/02/21 13:14:53 INFO BlockManagerInfo: Added broadcast_17_piece0 in memory on 172.25.13.138:39685 (size: 36.0 KiB, free: 434.3 MiB)\n",
      "24/02/21 13:14:53 INFO SparkContext: Created broadcast 17 from showString at NativeMethodAccessorImpl.java:0\n",
      "24/02/21 13:14:53 INFO FileSourceScanExec: Planning scan with bin packing, max size: 4194304 bytes, open cost is considered as scanning 4194304 bytes.\n",
      "24/02/21 13:14:53 INFO SparkContext: Starting job: showString at NativeMethodAccessorImpl.java:0\n",
      "24/02/21 13:14:53 INFO BlockManagerInfo: Removed broadcast_15_piece0 on 172.25.13.138:39685 in memory (size: 35.3 KiB, free: 434.4 MiB)\n",
      "24/02/21 13:14:53 INFO DAGScheduler: Got job 12 (showString at NativeMethodAccessorImpl.java:0) with 1 output partitions\n",
      "24/02/21 13:14:53 INFO DAGScheduler: Final stage: ResultStage 18 (showString at NativeMethodAccessorImpl.java:0)\n",
      "24/02/21 13:14:53 INFO DAGScheduler: Parents of final stage: List()\n",
      "24/02/21 13:14:53 INFO DAGScheduler: Missing parents: List()\n",
      "24/02/21 13:14:53 INFO DAGScheduler: Submitting ResultStage 18 (MapPartitionsRDD[41] at showString at NativeMethodAccessorImpl.java:0), which has no missing parents\n",
      "24/02/21 13:14:53 INFO MemoryStore: Block broadcast_18 stored as values in memory (estimated size 28.6 KiB, free 434.1 MiB)\n",
      "24/02/21 13:14:53 INFO MemoryStore: Block broadcast_18_piece0 stored as bytes in memory (estimated size 8.9 KiB, free 434.1 MiB)\n",
      "24/02/21 13:14:53 INFO BlockManagerInfo: Added broadcast_18_piece0 in memory on 172.25.13.138:39685 (size: 8.9 KiB, free: 434.3 MiB)\n",
      "24/02/21 13:14:53 INFO BlockManagerInfo: Removed broadcast_16_piece0 on 172.25.13.138:39685 in memory (size: 6.8 KiB, free: 434.4 MiB)\n",
      "24/02/21 13:14:53 INFO SparkContext: Created broadcast 18 from broadcast at DAGScheduler.scala:1513\n",
      "24/02/21 13:14:53 INFO DAGScheduler: Submitting 1 missing tasks from ResultStage 18 (MapPartitionsRDD[41] at showString at NativeMethodAccessorImpl.java:0) (first 15 tasks are for partitions Vector(0))\n",
      "24/02/21 13:14:53 INFO TaskSchedulerImpl: Adding task set 18.0 with 1 tasks resource profile 0\n",
      "24/02/21 13:14:53 INFO TaskSetManager: Starting task 0.0 in stage 18.0 (TID 16) (172.25.13.138, executor driver, partition 0, PROCESS_LOCAL, 4948 bytes) taskResourceAssignments Map()\n",
      "24/02/21 13:14:53 INFO Executor: Running task 0.0 in stage 18.0 (TID 16)\n",
      "24/02/21 13:14:53 INFO FileScanRDD: Reading File path: gs://projectonleali-mibucketdataproc/data/green/2020/01/green_2020_01.parquet, range: 0-4194304, partition values: [empty row]\n"
     ]
    },
    {
     "name": "stderr",
     "output_type": "stream",
     "text": [
      "[Stage 18:>                                                         (0 + 1) / 1]\r"
     ]
    },
    {
     "name": "stdout",
     "output_type": "stream",
     "text": [
      "24/02/21 13:15:00 INFO CodecPool: Got brand-new decompressor [.gz]\n",
      "24/02/21 13:15:00 INFO Executor: Finished task 0.0 in stage 18.0 (TID 16). 2837 bytes result sent to driver\n",
      "24/02/21 13:15:00 INFO TaskSetManager: Finished task 0.0 in stage 18.0 (TID 16) in 6873 ms on 172.25.13.138 (executor driver) (1/1)\n",
      "24/02/21 13:15:00 INFO TaskSchedulerImpl: Removed TaskSet 18.0, whose tasks have all completed, from pool \n",
      "24/02/21 13:15:00 INFO DAGScheduler: ResultStage 18 (showString at NativeMethodAccessorImpl.java:0) finished in 6.897 s\n",
      "24/02/21 13:15:00 INFO DAGScheduler: Job 12 is finished. Cancelling potential speculative or zombie tasks for this job\n",
      "24/02/21 13:15:00 INFO TaskSchedulerImpl: Killing all running tasks in stage 18: Stage finished\n",
      "24/02/21 13:15:00 INFO DAGScheduler: Job 12 finished: showString at NativeMethodAccessorImpl.java:0, took 6.911732 s\n",
      "24/02/21 13:15:00 INFO CodeGenerator: Code generated in 15.429284 ms\n",
      "+--------+--------------------+---------------------+------------------+----------+------------+------------+---------------+-------------+-----------+-----+-------+----------+------------+---------+---------------------+------------+------------+---------+--------------------+\n",
      "|VendorID|lpep_pickup_datetime|lpep_dropoff_datetime|store_and_fwd_flag|RatecodeID|PULocationID|DOLocationID|passenger_count|trip_distance|fare_amount|extra|mta_tax|tip_amount|tolls_amount|ehail_fee|improvement_surcharge|total_amount|payment_type|trip_type|congestion_surcharge|\n",
      "+--------+--------------------+---------------------+------------------+----------+------------+------------+---------------+-------------+-----------+-----+-------+----------+------------+---------+---------------------+------------+------------+---------+--------------------+\n",
      "|       2| 2019-12-18 12:52:30|  2019-12-18 12:54:39|                 N|       1.0|         264|         264|            5.0|          0.0|        3.5|  0.5|    0.5|      0.01|         0.0|     null|                  0.3|        4.81|         1.0|      1.0|                 0.0|\n",
      "|       2| 2019-12-31 21:45:58|  2019-12-31 21:56:39|                 N|       5.0|          66|          65|            2.0|         1.28|       20.0|  0.0|    0.0|      4.06|         0.0|     null|                  0.3|       24.36|         1.0|      2.0|                 0.0|\n",
      "|       2| 2019-12-31 21:41:38|  2019-12-31 21:52:49|                 N|       1.0|         181|         228|            1.0|         2.47|       10.5|  0.5|    0.5|      3.54|         0.0|     null|                  0.3|       15.34|         1.0|      1.0|                 0.0|\n",
      "|       1| 2019-12-31 21:52:46|  2019-12-31 22:14:21|                 N|       1.0|         129|         263|            2.0|          6.3|       21.0| 3.25|    0.5|       0.0|         0.0|     null|                  0.3|       25.05|         2.0|      1.0|                2.75|\n",
      "|       1| 2019-12-31 21:19:57|  2019-12-31 21:30:56|                 N|       1.0|         210|         150|            1.0|          2.3|       10.0|  0.5|    0.5|       0.0|         0.0|     null|                  0.3|        11.3|         1.0|      1.0|                 0.0|\n",
      "|       1| 2019-12-31 21:52:33|  2019-12-31 22:09:54|                 N|       1.0|          35|          39|            1.0|          3.0|       13.5|  0.5|    0.5|       0.0|         0.0|     null|                  0.3|        14.8|         1.0|      1.0|                 0.0|\n",
      "|       2| 2019-12-31 21:10:18|  2019-12-31 21:22:16|                 N|       1.0|          25|          61|            1.0|         2.77|       11.0|  0.5|    0.5|       0.0|         0.0|     null|                  0.3|        12.3|         2.0|      1.0|                 0.0|\n",
      "|       2| 2019-12-31 22:03:14|  2019-12-31 22:29:45|                 N|       1.0|         225|          89|            1.0|         4.98|       20.5|  0.5|    0.5|       0.0|         0.0|     null|                  0.3|        21.8|         2.0|      1.0|                 0.0|\n",
      "|       2| 2019-12-31 21:04:11|  2019-12-31 21:09:48|                 N|       1.0|         129|         129|            1.0|         0.71|        5.5|  0.5|    0.5|       0.0|         0.0|     null|                  0.3|         6.8|         2.0|      1.0|                 0.0|\n",
      "|       2| 2019-12-31 21:25:52|  2019-12-31 21:32:16|                 N|       1.0|         129|          83|            1.0|          0.8|        5.5|  0.5|    0.5|       0.0|         0.0|     null|                  0.3|         6.8|         2.0|      1.0|                 0.0|\n",
      "+--------+--------------------+---------------------+------------------+----------+------------+------------+---------------+-------------+-----------+-----+-------+----------+------------+---------+---------------------+------------+------------+---------+--------------------+\n",
      "only showing top 10 rows\n",
      "\n"
     ]
    },
    {
     "name": "stderr",
     "output_type": "stream",
     "text": [
      "                                                                                \r"
     ]
    }
   ],
   "source": [
    "df_green.show(10)"
   ]
  },
  {
   "cell_type": "markdown",
   "metadata": {},
   "source": [
    "Para probar que tambien podemos escribir en el storage vamos a crear un archivo con un agrupado de los datos, y luego lo vamos a leer para ver que haya quedado bien."
   ]
  },
  {
   "cell_type": "code",
   "execution_count": 15,
   "metadata": {},
   "outputs": [],
   "source": [
    "df_green.createOrReplaceTempView('mi_vista_green')\n",
    "\n",
    "df_groupy = spark.sql(\"\"\"\n",
    "                      select \n",
    "                            PULocationID as LocationID,\n",
    "                            date_trunc('day', lpep_pickup_datetime) as date,\n",
    "                            sum(total_amount) as total\n",
    "                            from mi_vista_green\n",
    "                            group by LocationID, date\n",
    "                            \"\"\")"
   ]
  },
  {
   "cell_type": "markdown",
   "metadata": {},
   "source": [
    "Escribimos el archivo al cloud"
   ]
  },
  {
   "cell_type": "code",
   "execution_count": 19,
   "metadata": {},
   "outputs": [
    {
     "name": "stdout",
     "output_type": "stream",
     "text": [
      "24/02/21 13:09:06 INFO FileSourceStrategy: Pushed Filters: \n",
      "24/02/21 13:09:06 INFO FileSourceStrategy: Post-Scan Filters: \n",
      "24/02/21 13:09:06 INFO FileSourceStrategy: Output Data Schema: struct<lpep_pickup_datetime: timestamp, PULocationID: bigint, total_amount: double ... 1 more fields>\n",
      "24/02/21 13:09:06 INFO ParquetFileFormat: Using default output committer for Parquet: org.apache.parquet.hadoop.ParquetOutputCommitter\n",
      "24/02/21 13:09:06 INFO MemoryStore: Block broadcast_11 stored as values in memory (estimated size 202.9 KiB, free 434.0 MiB)\n",
      "24/02/21 13:09:06 INFO MemoryStore: Block broadcast_11_piece0 stored as bytes in memory (estimated size 35.4 KiB, free 433.9 MiB)\n",
      "24/02/21 13:09:06 INFO BlockManagerInfo: Added broadcast_11_piece0 in memory on 172.25.13.138:39685 (size: 35.4 KiB, free: 434.3 MiB)\n",
      "24/02/21 13:09:06 INFO SparkContext: Created broadcast 11 from parquet at NativeMethodAccessorImpl.java:0\n",
      "24/02/21 13:09:06 INFO FileSourceScanExec: Planning scan with bin packing, max size: 4194304 bytes, open cost is considered as scanning 4194304 bytes.\n",
      "24/02/21 13:09:06 INFO DAGScheduler: Registering RDD 29 (parquet at NativeMethodAccessorImpl.java:0) as input to shuffle 4\n",
      "24/02/21 13:09:06 INFO DAGScheduler: Got map stage job 8 (parquet at NativeMethodAccessorImpl.java:0) with 2 output partitions\n",
      "24/02/21 13:09:06 INFO DAGScheduler: Final stage: ShuffleMapStage 13 (parquet at NativeMethodAccessorImpl.java:0)\n",
      "24/02/21 13:09:06 INFO DAGScheduler: Parents of final stage: List()\n",
      "24/02/21 13:09:06 INFO DAGScheduler: Missing parents: List()\n",
      "24/02/21 13:09:06 INFO DAGScheduler: Submitting ShuffleMapStage 13 (MapPartitionsRDD[29] at parquet at NativeMethodAccessorImpl.java:0), which has no missing parents\n",
      "24/02/21 13:09:06 INFO MemoryStore: Block broadcast_12 stored as values in memory (estimated size 42.3 KiB, free 433.9 MiB)\n",
      "24/02/21 13:09:06 INFO MemoryStore: Block broadcast_12_piece0 stored as bytes in memory (estimated size 18.7 KiB, free 433.9 MiB)\n",
      "24/02/21 13:09:06 INFO BlockManagerInfo: Added broadcast_12_piece0 in memory on 172.25.13.138:39685 (size: 18.7 KiB, free: 434.3 MiB)\n",
      "24/02/21 13:09:06 INFO SparkContext: Created broadcast 12 from broadcast at DAGScheduler.scala:1513\n",
      "24/02/21 13:09:06 INFO DAGScheduler: Submitting 2 missing tasks from ShuffleMapStage 13 (MapPartitionsRDD[29] at parquet at NativeMethodAccessorImpl.java:0) (first 15 tasks are for partitions Vector(0, 1))\n",
      "24/02/21 13:09:06 INFO TaskSchedulerImpl: Adding task set 13.0 with 2 tasks resource profile 0\n",
      "24/02/21 13:09:06 INFO TaskSetManager: Starting task 0.0 in stage 13.0 (TID 11) (172.25.13.138, executor driver, partition 0, PROCESS_LOCAL, 4937 bytes) taskResourceAssignments Map()\n",
      "24/02/21 13:09:06 INFO TaskSetManager: Starting task 1.0 in stage 13.0 (TID 12) (172.25.13.138, executor driver, partition 1, PROCESS_LOCAL, 4937 bytes) taskResourceAssignments Map()\n",
      "24/02/21 13:09:06 INFO Executor: Running task 0.0 in stage 13.0 (TID 11)\n",
      "24/02/21 13:09:06 INFO Executor: Running task 1.0 in stage 13.0 (TID 12)\n",
      "24/02/21 13:09:06 INFO FileScanRDD: Reading File path: gs://projectonleali-mibucketdataproc/data/green/2020/01/green_2020_01.parquet, range: 4194304-7183298, partition values: [empty row]\n",
      "24/02/21 13:09:06 INFO FileScanRDD: Reading File path: gs://projectonleali-mibucketdataproc/data/green/2020/01/green_2020_01.parquet, range: 0-4194304, partition values: [empty row]\n"
     ]
    },
    {
     "name": "stderr",
     "output_type": "stream",
     "text": [
      "[Stage 13:>                                                         (0 + 2) / 2]\r"
     ]
    },
    {
     "name": "stdout",
     "output_type": "stream",
     "text": [
      "24/02/21 13:09:08 INFO BlockManagerInfo: Removed broadcast_10_piece0 on 172.25.13.138:39685 in memory (size: 5.5 KiB, free: 434.3 MiB)\n",
      "24/02/21 13:09:10 INFO Executor: Finished task 1.0 in stage 13.0 (TID 12). 2807 bytes result sent to driver\n",
      "24/02/21 13:09:10 INFO TaskSetManager: Finished task 1.0 in stage 13.0 (TID 12) in 3591 ms on 172.25.13.138 (executor driver) (1/2)\n"
     ]
    },
    {
     "name": "stderr",
     "output_type": "stream",
     "text": [
      "[Stage 13:=============================>                            (1 + 1) / 2]\r"
     ]
    },
    {
     "name": "stdout",
     "output_type": "stream",
     "text": [
      "24/02/21 13:09:10 INFO BlockManagerInfo: Removed broadcast_7_piece0 on 172.25.13.138:39685 in memory (size: 35.4 KiB, free: 434.3 MiB)\n",
      "24/02/21 13:09:12 INFO CodecPool: Got brand-new decompressor [.gz]\n",
      "24/02/21 13:09:12 INFO Executor: Finished task 0.0 in stage 13.0 (TID 11). 2979 bytes result sent to driver\n",
      "24/02/21 13:09:12 INFO TaskSetManager: Finished task 0.0 in stage 13.0 (TID 11) in 6147 ms on 172.25.13.138 (executor driver) (2/2)\n",
      "24/02/21 13:09:12 INFO TaskSchedulerImpl: Removed TaskSet 13.0, whose tasks have all completed, from pool \n",
      "24/02/21 13:09:12 INFO DAGScheduler: ShuffleMapStage 13 (parquet at NativeMethodAccessorImpl.java:0) finished in 6.154 s\n",
      "24/02/21 13:09:12 INFO DAGScheduler: looking for newly runnable stages\n",
      "24/02/21 13:09:12 INFO DAGScheduler: running: Set()\n",
      "24/02/21 13:09:12 INFO DAGScheduler: waiting: Set()\n",
      "24/02/21 13:09:12 INFO DAGScheduler: failed: Set()\n",
      "24/02/21 13:09:12 INFO ShufflePartitionsUtil: For shuffle(4), advisory target size: 67108864, actual target size 1048576, minimum partition size: 1048576\n",
      "24/02/21 13:09:12 INFO FileOutputCommitter: File Output Committer Algorithm version is 1\n",
      "24/02/21 13:09:12 INFO FileOutputCommitter: FileOutputCommitter skip cleanup _temporary folders under output directory:false, ignore cleanup failures: false\n",
      "24/02/21 13:09:12 INFO SQLHadoopMapReduceCommitProtocol: Using user defined output committer class org.apache.parquet.hadoop.ParquetOutputCommitter\n",
      "24/02/21 13:09:12 INFO FileOutputCommitter: File Output Committer Algorithm version is 1\n",
      "24/02/21 13:09:12 INFO FileOutputCommitter: FileOutputCommitter skip cleanup _temporary folders under output directory:false, ignore cleanup failures: false\n",
      "24/02/21 13:09:12 INFO SQLHadoopMapReduceCommitProtocol: Using output committer class org.apache.parquet.hadoop.ParquetOutputCommitter\n",
      "24/02/21 13:09:13 INFO HashAggregateExec: spark.sql.codegen.aggregate.map.twolevel.enabled is set to true, but current version of codegened fast hashmap does not support this aggregate.\n",
      "24/02/21 13:09:13 INFO CodeGenerator: Code generated in 13.810291 ms\n",
      "24/02/21 13:09:13 INFO SparkContext: Starting job: parquet at NativeMethodAccessorImpl.java:0\n",
      "24/02/21 13:09:13 INFO DAGScheduler: Got job 9 (parquet at NativeMethodAccessorImpl.java:0) with 1 output partitions\n",
      "24/02/21 13:09:13 INFO DAGScheduler: Final stage: ResultStage 15 (parquet at NativeMethodAccessorImpl.java:0)\n",
      "24/02/21 13:09:13 INFO DAGScheduler: Parents of final stage: List(ShuffleMapStage 14)\n",
      "24/02/21 13:09:13 INFO DAGScheduler: Missing parents: List()\n",
      "24/02/21 13:09:13 INFO DAGScheduler: Submitting ResultStage 15 (MapPartitionsRDD[31] at parquet at NativeMethodAccessorImpl.java:0), which has no missing parents\n",
      "24/02/21 13:09:13 INFO MemoryStore: Block broadcast_13 stored as values in memory (estimated size 241.2 KiB, free 433.9 MiB)\n",
      "24/02/21 13:09:13 INFO MemoryStore: Block broadcast_13_piece0 stored as bytes in memory (estimated size 89.3 KiB, free 433.8 MiB)\n",
      "24/02/21 13:09:13 INFO BlockManagerInfo: Added broadcast_13_piece0 in memory on 172.25.13.138:39685 (size: 89.3 KiB, free: 434.3 MiB)\n",
      "24/02/21 13:09:13 INFO SparkContext: Created broadcast 13 from broadcast at DAGScheduler.scala:1513\n",
      "24/02/21 13:09:13 INFO DAGScheduler: Submitting 1 missing tasks from ResultStage 15 (MapPartitionsRDD[31] at parquet at NativeMethodAccessorImpl.java:0) (first 15 tasks are for partitions Vector(0))\n",
      "24/02/21 13:09:13 INFO TaskSchedulerImpl: Adding task set 15.0 with 1 tasks resource profile 0\n",
      "24/02/21 13:09:13 INFO TaskSetManager: Starting task 0.0 in stage 15.0 (TID 13) (172.25.13.138, executor driver, partition 0, NODE_LOCAL, 4453 bytes) taskResourceAssignments Map()\n",
      "24/02/21 13:09:13 INFO Executor: Running task 0.0 in stage 15.0 (TID 13)\n",
      "24/02/21 13:09:13 INFO ShuffleBlockFetcherIterator: Getting 1 (143.8 KiB) non-empty blocks including 1 (143.8 KiB) local and 0 (0.0 B) host-local and 0 (0.0 B) push-merged-local and 0 (0.0 B) remote blocks\n",
      "24/02/21 13:09:13 INFO ShuffleBlockFetcherIterator: Started 0 remote fetches in 1 ms\n",
      "24/02/21 13:09:13 INFO FileOutputCommitter: File Output Committer Algorithm version is 1\n",
      "24/02/21 13:09:13 INFO FileOutputCommitter: FileOutputCommitter skip cleanup _temporary folders under output directory:false, ignore cleanup failures: false\n",
      "24/02/21 13:09:13 INFO SQLHadoopMapReduceCommitProtocol: Using user defined output committer class org.apache.parquet.hadoop.ParquetOutputCommitter\n",
      "24/02/21 13:09:13 INFO FileOutputCommitter: File Output Committer Algorithm version is 1\n",
      "24/02/21 13:09:13 INFO FileOutputCommitter: FileOutputCommitter skip cleanup _temporary folders under output directory:false, ignore cleanup failures: false\n",
      "24/02/21 13:09:13 INFO SQLHadoopMapReduceCommitProtocol: Using output committer class org.apache.parquet.hadoop.ParquetOutputCommitter\n",
      "24/02/21 13:09:13 INFO CodecConfig: Compression: SNAPPY\n",
      "24/02/21 13:09:13 INFO CodecConfig: Compression: SNAPPY\n",
      "24/02/21 13:09:13 INFO ParquetOutputFormat: Parquet block size to 134217728\n",
      "24/02/21 13:09:13 INFO ParquetOutputFormat: Validation is off\n",
      "24/02/21 13:09:13 INFO ParquetOutputFormat: Maximum row group padding size is 8388608 bytes\n",
      "24/02/21 13:09:13 INFO ParquetOutputFormat: Parquet properties are:\n",
      "Parquet page size to 1048576\n",
      "Parquet dictionary page size to 1048576\n",
      "Dictionary is true\n",
      "Writer version is: PARQUET_1_0\n",
      "Page size checking is: estimated\n",
      "Min row count for page size check is: 100\n",
      "Max row count for page size check is: 10000\n",
      "Truncate length for column indexes is: 64\n",
      "Truncate length for statistics min/max  is: 2147483647\n",
      "Bloom filter enabled: false\n",
      "Max Bloom filter size for a column is 1048576\n",
      "Bloom filter expected number of distinct values are: null\n",
      "Page row count limit to 20000\n",
      "Writing page checksums is: on\n",
      "24/02/21 13:09:13 INFO BlockManagerInfo: Removed broadcast_12_piece0 on 172.25.13.138:39685 in memory (size: 18.7 KiB, free: 434.3 MiB)\n",
      "24/02/21 13:09:13 INFO ParquetWriteSupport: Initialized Parquet WriteSupport with Catalyst schema:\n",
      "{\n",
      "  \"type\" : \"struct\",\n",
      "  \"fields\" : [ {\n",
      "    \"name\" : \"LocationID\",\n",
      "    \"type\" : \"long\",\n",
      "    \"nullable\" : true,\n",
      "    \"metadata\" : { }\n",
      "  }, {\n",
      "    \"name\" : \"date\",\n",
      "    \"type\" : \"timestamp\",\n",
      "    \"nullable\" : true,\n",
      "    \"metadata\" : { }\n",
      "  }, {\n",
      "    \"name\" : \"total\",\n",
      "    \"type\" : \"double\",\n",
      "    \"nullable\" : true,\n",
      "    \"metadata\" : { }\n",
      "  } ]\n",
      "}\n",
      "and corresponding Parquet message type:\n",
      "message spark_schema {\n",
      "  optional int64 LocationID;\n",
      "  optional int96 date;\n",
      "  optional double total;\n",
      "}\n",
      "\n",
      "       \n",
      "24/02/21 13:09:14 INFO CodecPool: Got brand-new compressor [.snappy]\n"
     ]
    },
    {
     "name": "stderr",
     "output_type": "stream",
     "text": [
      "[Stage 15:>                                                         (0 + 1) / 1]\r"
     ]
    },
    {
     "name": "stdout",
     "output_type": "stream",
     "text": [
      "24/02/21 13:09:17 INFO GoogleCloudStorageFileSystem: Successfully repaired 'gs://projectonleali-mibucketdataproc/reportes/total_por_ciudad/_temporary/0/_temporary/' directory.\n",
      "24/02/21 13:09:17 INFO FileOutputCommitter: Saved output of task 'attempt_202402211309131357866188751679749_0015_m_000000_13' to gs://projectonleali-mibucketdataproc/reportes/total_por_ciudad/_temporary/0/task_202402211309131357866188751679749_0015_m_000000\n",
      "24/02/21 13:09:17 INFO SparkHadoopMapRedUtil: attempt_202402211309131357866188751679749_0015_m_000000_13: Committed. Elapsed time: 2200 ms.\n",
      "24/02/21 13:09:17 INFO Executor: Finished task 0.0 in stage 15.0 (TID 13). 5105 bytes result sent to driver\n",
      "24/02/21 13:09:17 INFO TaskSetManager: Finished task 0.0 in stage 15.0 (TID 13) in 3980 ms on 172.25.13.138 (executor driver) (1/1)\n",
      "24/02/21 13:09:17 INFO TaskSchedulerImpl: Removed TaskSet 15.0, whose tasks have all completed, from pool \n",
      "24/02/21 13:09:17 INFO DAGScheduler: ResultStage 15 (parquet at NativeMethodAccessorImpl.java:0) finished in 4.005 s\n",
      "24/02/21 13:09:17 INFO DAGScheduler: Job 9 is finished. Cancelling potential speculative or zombie tasks for this job\n",
      "24/02/21 13:09:17 INFO TaskSchedulerImpl: Killing all running tasks in stage 15: Stage finished\n",
      "24/02/21 13:09:17 INFO DAGScheduler: Job 9 finished: parquet at NativeMethodAccessorImpl.java:0, took 4.012230 s\n",
      "24/02/21 13:09:17 INFO FileFormatWriter: Start to commit write Job 76674c5c-531e-4c8a-91d7-1b4d7e0836ec.\n"
     ]
    },
    {
     "name": "stderr",
     "output_type": "stream",
     "text": [
      "                                                                                \r"
     ]
    },
    {
     "name": "stdout",
     "output_type": "stream",
     "text": [
      "24/02/21 13:09:20 INFO GoogleCloudStorageFileSystem: Successfully repaired 'gs://projectonleali-mibucketdataproc/reportes/total_por_ciudad/_temporary/0/task_202402211309131357866188751679749_0015_m_000000/' directory.\n",
      "24/02/21 13:09:21 INFO GoogleCloudStorageFileSystem: Successfully repaired 'gs://projectonleali-mibucketdataproc/reportes/total_por_ciudad/' directory.\n",
      "24/02/21 13:09:22 INFO BlockManagerInfo: Removed broadcast_13_piece0 on 172.25.13.138:39685 in memory (size: 89.3 KiB, free: 434.4 MiB)\n",
      "24/02/21 13:09:23 INFO FileFormatWriter: Write Job 76674c5c-531e-4c8a-91d7-1b4d7e0836ec committed. Elapsed time: 5416 ms.\n",
      "24/02/21 13:09:23 INFO FileFormatWriter: Finished processing stats for write job 76674c5c-531e-4c8a-91d7-1b4d7e0836ec.\n"
     ]
    }
   ],
   "source": [
    "df_groupy.write.parquet('gs://projectonleali-mibucketdataproc/reportes/total_por_ciudad')"
   ]
  },
  {
   "cell_type": "markdown",
   "metadata": {},
   "source": [
    "REcuperamos el archivo y mostramos los datos"
   ]
  },
  {
   "cell_type": "code",
   "execution_count": 21,
   "metadata": {},
   "outputs": [
    {
     "name": "stdout",
     "output_type": "stream",
     "text": [
      "24/02/21 13:11:28 INFO InMemoryFileIndex: It took 180 ms to list leaf files for 1 paths.\n",
      "24/02/21 13:11:28 INFO SparkContext: Starting job: parquet at NativeMethodAccessorImpl.java:0\n",
      "24/02/21 13:11:28 INFO DAGScheduler: Got job 10 (parquet at NativeMethodAccessorImpl.java:0) with 1 output partitions\n",
      "24/02/21 13:11:28 INFO DAGScheduler: Final stage: ResultStage 16 (parquet at NativeMethodAccessorImpl.java:0)\n",
      "24/02/21 13:11:28 INFO DAGScheduler: Parents of final stage: List()\n",
      "24/02/21 13:11:28 INFO DAGScheduler: Missing parents: List()\n",
      "24/02/21 13:11:28 INFO DAGScheduler: Submitting ResultStage 16 (MapPartitionsRDD[33] at parquet at NativeMethodAccessorImpl.java:0), which has no missing parents\n",
      "24/02/21 13:11:28 INFO MemoryStore: Block broadcast_14 stored as values in memory (estimated size 103.9 KiB, free 434.1 MiB)\n",
      "24/02/21 13:11:28 INFO MemoryStore: Block broadcast_14_piece0 stored as bytes in memory (estimated size 37.5 KiB, free 434.0 MiB)\n",
      "24/02/21 13:11:28 INFO BlockManagerInfo: Added broadcast_14_piece0 in memory on 172.25.13.138:39685 (size: 37.5 KiB, free: 434.3 MiB)\n",
      "24/02/21 13:11:28 INFO SparkContext: Created broadcast 14 from broadcast at DAGScheduler.scala:1513\n",
      "24/02/21 13:11:28 INFO DAGScheduler: Submitting 1 missing tasks from ResultStage 16 (MapPartitionsRDD[33] at parquet at NativeMethodAccessorImpl.java:0) (first 15 tasks are for partitions Vector(0))\n",
      "24/02/21 13:11:28 INFO TaskSchedulerImpl: Adding task set 16.0 with 1 tasks resource profile 0\n",
      "24/02/21 13:11:28 INFO TaskSetManager: Starting task 0.0 in stage 16.0 (TID 14) (172.25.13.138, executor driver, partition 0, PROCESS_LOCAL, 4678 bytes) taskResourceAssignments Map()\n",
      "24/02/21 13:11:28 INFO Executor: Running task 0.0 in stage 16.0 (TID 14)\n",
      "24/02/21 13:11:29 INFO Executor: Finished task 0.0 in stage 16.0 (TID 14). 1793 bytes result sent to driver\n",
      "24/02/21 13:11:29 INFO TaskSetManager: Finished task 0.0 in stage 16.0 (TID 14) in 698 ms on 172.25.13.138 (executor driver) (1/1)\n",
      "24/02/21 13:11:29 INFO TaskSchedulerImpl: Removed TaskSet 16.0, whose tasks have all completed, from pool \n",
      "24/02/21 13:11:29 INFO DAGScheduler: ResultStage 16 (parquet at NativeMethodAccessorImpl.java:0) finished in 0.712 s\n",
      "24/02/21 13:11:29 INFO DAGScheduler: Job 10 is finished. Cancelling potential speculative or zombie tasks for this job\n",
      "24/02/21 13:11:29 INFO TaskSchedulerImpl: Killing all running tasks in stage 16: Stage finished\n",
      "24/02/21 13:11:29 INFO DAGScheduler: Job 10 finished: parquet at NativeMethodAccessorImpl.java:0, took 0.714664 s\n"
     ]
    },
    {
     "name": "stderr",
     "output_type": "stream",
     "text": [
      "                                                                                \r"
     ]
    }
   ],
   "source": [
    "df_mi_lectura = spark.read.parquet(\"gs://projectonleali-mibucketdataproc/reportes/*\")"
   ]
  },
  {
   "cell_type": "code",
   "execution_count": 22,
   "metadata": {},
   "outputs": [
    {
     "name": "stdout",
     "output_type": "stream",
     "text": [
      "24/02/21 13:11:46 INFO FileSourceStrategy: Pushed Filters: \n",
      "24/02/21 13:11:46 INFO FileSourceStrategy: Post-Scan Filters: \n",
      "24/02/21 13:11:46 INFO FileSourceStrategy: Output Data Schema: struct<LocationID: bigint, date: timestamp, total: double ... 1 more fields>\n",
      "24/02/21 13:11:46 INFO CodeGenerator: Code generated in 15.241513 ms\n",
      "24/02/21 13:11:46 INFO MemoryStore: Block broadcast_15 stored as values in memory (estimated size 202.9 KiB, free 433.8 MiB)\n",
      "24/02/21 13:11:46 INFO MemoryStore: Block broadcast_15_piece0 stored as bytes in memory (estimated size 35.3 KiB, free 433.8 MiB)\n",
      "24/02/21 13:11:46 INFO BlockManagerInfo: Added broadcast_15_piece0 in memory on 172.25.13.138:39685 (size: 35.3 KiB, free: 434.3 MiB)\n",
      "24/02/21 13:11:46 INFO SparkContext: Created broadcast 15 from showString at NativeMethodAccessorImpl.java:0\n",
      "24/02/21 13:11:46 INFO FileSourceScanExec: Planning scan with bin packing, max size: 4194304 bytes, open cost is considered as scanning 4194304 bytes.\n",
      "24/02/21 13:11:46 INFO BlockManagerInfo: Removed broadcast_14_piece0 on 172.25.13.138:39685 in memory (size: 37.5 KiB, free: 434.3 MiB)\n",
      "24/02/21 13:11:46 INFO SparkContext: Starting job: showString at NativeMethodAccessorImpl.java:0\n",
      "24/02/21 13:11:46 INFO DAGScheduler: Got job 11 (showString at NativeMethodAccessorImpl.java:0) with 1 output partitions\n",
      "24/02/21 13:11:46 INFO DAGScheduler: Final stage: ResultStage 17 (showString at NativeMethodAccessorImpl.java:0)\n",
      "24/02/21 13:11:46 INFO DAGScheduler: Parents of final stage: List()\n",
      "24/02/21 13:11:46 INFO DAGScheduler: Missing parents: List()\n",
      "24/02/21 13:11:46 INFO DAGScheduler: Submitting ResultStage 17 (MapPartitionsRDD[37] at showString at NativeMethodAccessorImpl.java:0), which has no missing parents\n",
      "24/02/21 13:11:46 INFO MemoryStore: Block broadcast_16 stored as values in memory (estimated size 15.4 KiB, free 433.9 MiB)\n",
      "24/02/21 13:11:46 INFO MemoryStore: Block broadcast_16_piece0 stored as bytes in memory (estimated size 6.8 KiB, free 433.9 MiB)\n",
      "24/02/21 13:11:46 INFO BlockManagerInfo: Added broadcast_16_piece0 in memory on 172.25.13.138:39685 (size: 6.8 KiB, free: 434.3 MiB)\n",
      "24/02/21 13:11:46 INFO SparkContext: Created broadcast 16 from broadcast at DAGScheduler.scala:1513\n",
      "24/02/21 13:11:46 INFO DAGScheduler: Submitting 1 missing tasks from ResultStage 17 (MapPartitionsRDD[37] at showString at NativeMethodAccessorImpl.java:0) (first 15 tasks are for partitions Vector(0))\n",
      "24/02/21 13:11:46 INFO TaskSchedulerImpl: Adding task set 17.0 with 1 tasks resource profile 0\n",
      "24/02/21 13:11:46 INFO TaskSetManager: Starting task 0.0 in stage 17.0 (TID 15) (172.25.13.138, executor driver, partition 0, PROCESS_LOCAL, 5001 bytes) taskResourceAssignments Map()\n",
      "24/02/21 13:11:46 INFO Executor: Running task 0.0 in stage 17.0 (TID 15)\n",
      "24/02/21 13:11:46 INFO FileScanRDD: Reading File path: gs://projectonleali-mibucketdataproc/reportes/total_por_ciudad/part-00000-20b6bd9c-420a-42df-aa46-83cb2ab24406-c000.snappy.parquet, range: 0-52923, partition values: [empty row]\n",
      "24/02/21 13:11:46 INFO BlockManagerInfo: Removed broadcast_11_piece0 on 172.25.13.138:39685 in memory (size: 35.4 KiB, free: 434.4 MiB)\n"
     ]
    },
    {
     "name": "stderr",
     "output_type": "stream",
     "text": [
      "[Stage 17:>                                                         (0 + 1) / 1]\r"
     ]
    },
    {
     "name": "stdout",
     "output_type": "stream",
     "text": [
      "24/02/21 13:11:48 INFO CodecPool: Got brand-new decompressor [.snappy]\n",
      "24/02/21 13:11:48 INFO Executor: Finished task 0.0 in stage 17.0 (TID 15). 2308 bytes result sent to driver\n",
      "24/02/21 13:11:48 INFO TaskSetManager: Finished task 0.0 in stage 17.0 (TID 15) in 1593 ms on 172.25.13.138 (executor driver) (1/1)\n",
      "24/02/21 13:11:48 INFO TaskSchedulerImpl: Removed TaskSet 17.0, whose tasks have all completed, from pool \n",
      "24/02/21 13:11:48 INFO DAGScheduler: ResultStage 17 (showString at NativeMethodAccessorImpl.java:0) finished in 1.601 s\n",
      "24/02/21 13:11:48 INFO DAGScheduler: Job 11 is finished. Cancelling potential speculative or zombie tasks for this job\n",
      "24/02/21 13:11:48 INFO TaskSchedulerImpl: Killing all running tasks in stage 17: Stage finished\n",
      "24/02/21 13:11:48 INFO DAGScheduler: Job 11 finished: showString at NativeMethodAccessorImpl.java:0, took 1.603306 s\n",
      "+----------+-------------------+------------------+\n",
      "|LocationID|               date|             total|\n",
      "+----------+-------------------+------------------+\n",
      "|       185|2019-12-31 00:00:00|107.94999999999999|\n",
      "|        10|2019-12-31 00:00:00|             99.28|\n",
      "|       116|2020-01-04 00:00:00|2991.4800000000005|\n",
      "|       154|2020-01-06 00:00:00|             65.18|\n",
      "|       257|2020-01-07 00:00:00|            567.08|\n",
      "|       134|2020-01-08 00:00:00| 2683.759999999998|\n",
      "|       228|2020-01-10 00:00:00|            730.15|\n",
      "|        33|2020-01-12 00:00:00| 3851.010000000004|\n",
      "|        15|2020-01-12 00:00:00|177.73000000000002|\n",
      "|       235|2020-01-15 00:00:00|1560.7499999999998|\n",
      "|       200|2020-01-15 00:00:00| 606.1899999999999|\n",
      "|       215|2020-01-15 00:00:00| 993.2499999999999|\n",
      "|        31|2020-01-17 00:00:00|             96.93|\n",
      "|       147|2020-01-19 00:00:00|             147.1|\n",
      "|       157|2020-01-19 00:00:00|             253.7|\n",
      "|       242|2020-01-21 00:00:00|2148.6600000000008|\n",
      "|        14|2020-01-22 00:00:00|1935.2700000000004|\n",
      "|        80|2020-01-24 00:00:00|           2575.35|\n",
      "|       177|2020-01-26 00:00:00| 905.6299999999998|\n",
      "|       174|2020-01-26 00:00:00|            452.78|\n",
      "+----------+-------------------+------------------+\n",
      "only showing top 20 rows\n",
      "\n"
     ]
    },
    {
     "name": "stderr",
     "output_type": "stream",
     "text": [
      "                                                                                \r"
     ]
    }
   ],
   "source": [
    "df_mi_lectura.show()"
   ]
  },
  {
   "cell_type": "markdown",
   "metadata": {},
   "source": [
    "### Como podemos ver todas las operaciones se hacen siempre desde el cloud."
   ]
  }
 ],
 "metadata": {
  "kernelspec": {
   "display_name": "Python 3",
   "language": "python",
   "name": "python3"
  },
  "language_info": {
   "codemirror_mode": {
    "name": "ipython",
    "version": 3
   },
   "file_extension": ".py",
   "mimetype": "text/x-python",
   "name": "python",
   "nbconvert_exporter": "python",
   "pygments_lexer": "ipython3",
   "version": "3.10.12"
  }
 },
 "nbformat": 4,
 "nbformat_minor": 2
}
